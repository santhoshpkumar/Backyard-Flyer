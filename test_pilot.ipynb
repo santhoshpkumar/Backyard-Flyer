{
 "cells": [
  {
   "cell_type": "code",
   "execution_count": 1,
   "metadata": {},
   "outputs": [],
   "source": [
    "from udacidrone import Drone\n",
    "from udacidrone.connection import MavlinkConnection"
   ]
  },
  {
   "cell_type": "code",
   "execution_count": 25,
   "metadata": {},
   "outputs": [
    {
     "name": "stdout",
     "output_type": "stream",
     "text": [
      "Logs/TLog.txt\n"
     ]
    }
   ],
   "source": [
    "conn = MavlinkConnection('tcp:127.0.0.1:5760', threaded=True)\n",
    "drone = Drone(conn)\n",
    "drone.start()"
   ]
  },
  {
   "cell_type": "code",
   "execution_count": 26,
   "metadata": {},
   "outputs": [],
   "source": [
    "drone.take_control()\n",
    "drone.arm()"
   ]
  },
  {
   "cell_type": "code",
   "execution_count": 27,
   "metadata": {},
   "outputs": [],
   "source": [
    "drone.set_home_position(drone.global_position[0], \n",
    "                        drone.global_position[1], \n",
    "                        drone.global_position[2])"
   ]
  },
  {
   "cell_type": "code",
   "execution_count": 28,
   "metadata": {},
   "outputs": [],
   "source": [
    "drone.takeoff(3)"
   ]
  },
  {
   "cell_type": "markdown",
   "metadata": {},
   "source": [
    "start(): Start receiving messages from the drone. If the connection is not threaded, this will block the code\n",
    "\n",
    "stop(): Terminate the connection with the drone and close the telemetry log\n",
    "\n",
    "take_control(): Set the command mode of the quad to guided.\n",
    "\n",
    "release_control(): Set the command mode of the quad to manual.\n",
    "\n",
    "arm(): Arms the motors of the quad, the rotors begin spinning. The drone cannot takeoff until armed.\n",
    "\n",
    "disarm(): Disarms the motors of the quad. The quadcopter cannot be disarmed in the air.\n",
    "\n",
    "cmd_position(north, east, down, heading): Command the vehicle to travel to the local position (north, east, down). Also commands the quad to maintain a specified heading."
   ]
  },
  {
   "cell_type": "code",
   "execution_count": 29,
   "metadata": {},
   "outputs": [],
   "source": [
    "drone.cmd_position(5,0,3,0)"
   ]
  },
  {
   "cell_type": "code",
   "execution_count": 30,
   "metadata": {},
   "outputs": [],
   "source": [
    "drone.cmd_position(5,5,3,0)"
   ]
  },
  {
   "cell_type": "code",
   "execution_count": 31,
   "metadata": {},
   "outputs": [],
   "source": [
    "drone.cmd_position(0,5,3,0)"
   ]
  },
  {
   "cell_type": "code",
   "execution_count": 32,
   "metadata": {},
   "outputs": [],
   "source": [
    "drone.cmd_position(0,0,3,0)"
   ]
  },
  {
   "cell_type": "code",
   "execution_count": 33,
   "metadata": {},
   "outputs": [],
   "source": [
    "drone.cmd_position(0,0,0,0)"
   ]
  },
  {
   "cell_type": "code",
   "execution_count": 34,
   "metadata": {},
   "outputs": [],
   "source": [
    "drone.release_control()"
   ]
  },
  {
   "cell_type": "code",
   "execution_count": 35,
   "metadata": {},
   "outputs": [],
   "source": [
    "drone.disarm()"
   ]
  },
  {
   "cell_type": "code",
   "execution_count": 36,
   "metadata": {},
   "outputs": [
    {
     "name": "stdout",
     "output_type": "stream",
     "text": [
      "Closing connection ...\n"
     ]
    }
   ],
   "source": [
    "drone.stop()"
   ]
  },
  {
   "cell_type": "code",
   "execution_count": null,
   "metadata": {},
   "outputs": [],
   "source": []
  }
 ],
 "metadata": {
  "kernelspec": {
   "display_name": "Python 3",
   "language": "python",
   "name": "python3"
  },
  "language_info": {
   "codemirror_mode": {
    "name": "ipython",
    "version": 3
   },
   "file_extension": ".py",
   "mimetype": "text/x-python",
   "name": "python",
   "nbconvert_exporter": "python",
   "pygments_lexer": "ipython3",
   "version": "3.6.3"
  }
 },
 "nbformat": 4,
 "nbformat_minor": 2
}
